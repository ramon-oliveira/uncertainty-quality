{
 "cells": [
  {
   "cell_type": "code",
   "execution_count": 1,
   "metadata": {},
   "outputs": [],
   "source": [
    "%load_ext autoreload\n",
    "import tensorflow as tf\n",
    "import edward as ed\n",
    "from edward.models import Normal, Categorical\n",
    "from keras.models import Sequential\n",
    "from keras.layers import Dense\n",
    "from keras.layers import Dropout\n",
    "import numpy as np\n",
    "from sklearn import datasets\n",
    "from sklearn.model_selection import train_test_split"
   ]
  },
  {
   "cell_type": "code",
   "execution_count": 2,
   "metadata": {
    "collapsed": true
   },
   "outputs": [],
   "source": [
    "X_data, y_data = datasets.load_digits(return_X_y=True)\n",
    "X_data = X_data/X_data.max()\n",
    "X_train, X_test, y_train, y_test = train_test_split(X_data, y_data, test_size=0.3)"
   ]
  },
  {
   "cell_type": "code",
   "execution_count": null,
   "metadata": {
    "collapsed": true
   },
   "outputs": [],
   "source": [
    "DIN = X_train.shape[1]\n",
    "DOUT = len(set(y_train))\n",
    "X = tf.placeholder(tf.float32, [None, DIN])\n",
    "W = Normal(mu=tf.zeros([DIN, DOUT]), sigma=tf.ones([DIN, DOUT]))\n",
    "b = Normal(mu=tf.zeros([DOUT]), sigma=tf.ones([DOUT]))\n",
    "y = Categorical(logits=tf.matmul(X, W) + b)\n",
    "\n",
    "qW = Normal(mu=tf.Variable(tf.random_normal([DIN, DOUT])),\n",
    "            sigma=tf.nn.softplus(tf.Variable(tf.random_normal([DIN, DOUT]))))\n",
    "qb = Normal(mu=tf.Variable(tf.random_normal([DOUT])),\n",
    "            sigma=tf.nn.softplus(tf.Variable(tf.random_normal([DOUT]))))"
   ]
  },
  {
   "cell_type": "code",
   "execution_count": null,
   "metadata": {},
   "outputs": [],
   "source": [
    "y.get_shape(), W.get_shape()"
   ]
  },
  {
   "cell_type": "code",
   "execution_count": null,
   "metadata": {
    "collapsed": true
   },
   "outputs": [],
   "source": [
    "inference = ed.KLqp({W: qW}, data={X: X_train, y: y_train}) "
   ]
  },
  {
   "cell_type": "code",
   "execution_count": null,
   "metadata": {},
   "outputs": [],
   "source": [
    "inference.run(n_samples=5, n_iter=10000)"
   ]
  },
  {
   "cell_type": "code",
   "execution_count": null,
   "metadata": {
    "collapsed": true
   },
   "outputs": [],
   "source": [
    "preds = []\n",
    "for i in range(5):\n",
    "    wv = qW.eval()\n",
    "    bv = qb.eval()\n",
    "\n",
    "    y_pred = (np.matmul(X_test, wv) + bv)\n",
    "    preds.append(y_pred)"
   ]
  },
  {
   "cell_type": "code",
   "execution_count": null,
   "metadata": {
    "collapsed": true
   },
   "outputs": [],
   "source": [
    "preds = np.array(preds)"
   ]
  },
  {
   "cell_type": "code",
   "execution_count": null,
   "metadata": {},
   "outputs": [],
   "source": [
    "(preds.mean(axis=0).argmax(axis=1) == y_test).std()"
   ]
  },
  {
   "cell_type": "code",
   "execution_count": null,
   "metadata": {
    "collapsed": true
   },
   "outputs": [],
   "source": []
  },
  {
   "cell_type": "code",
   "execution_count": null,
   "metadata": {},
   "outputs": [],
   "source": [
    "y_pred.shape"
   ]
  },
  {
   "cell_type": "code",
   "execution_count": 22,
   "metadata": {},
   "outputs": [],
   "source": [
    "%autoreload 2\n",
    "import models\n",
    "\n",
    "model = {\n",
    "        'name': 'logistic_regression',\n",
    "        'inference': 'variational',\n",
    "        'n_iter': 1000,\n",
    "        'n_samples': 5,\n",
    "    }\n",
    "\n",
    "model = models.load(model)"
   ]
  },
  {
   "cell_type": "code",
   "execution_count": 23,
   "metadata": {},
   "outputs": [
    {
     "name": "stdout",
     "output_type": "stream",
     "text": [
      "1000/1000 [100%] ██████████████████████████████ Elapsed: 13s | Loss: 711.135\n"
     ]
    }
   ],
   "source": [
    "model.fit(X_train, y_train)"
   ]
  },
  {
   "cell_type": "code",
   "execution_count": 28,
   "metadata": {},
   "outputs": [
    {
     "data": {
      "text/plain": [
       "0.83333333333333337"
      ]
     },
     "execution_count": 28,
     "metadata": {},
     "output_type": "execute_result"
    }
   ],
   "source": [
    "(model.predict(X_test) == y_test).mean()"
   ]
  },
  {
   "cell_type": "code",
   "execution_count": 40,
   "metadata": {},
   "outputs": [
    {
     "data": {
      "text/plain": [
       "[(-6.3548013470135629, 0),\n",
       " (-5.6645389255136251, 9),\n",
       " (-1.9681641133502126, 5),\n",
       " (-1.7925044894218445, 8),\n",
       " (-1.5101598249748349, 6),\n",
       " (1.708775972481817, 3),\n",
       " (1.717641226015985, 1),\n",
       " (1.9228819394484162, 2),\n",
       " (2.2161536570638418, 4),\n",
       " (7.9283710354939103, 7)]"
      ]
     },
     "execution_count": 40,
     "metadata": {},
     "output_type": "execute_result"
    }
   ],
   "source": [
    "pred = model.predict_proba(X_test)\n",
    "sorted(zip(pred[0], range(10)))"
   ]
  },
  {
   "cell_type": "code",
   "execution_count": 43,
   "metadata": {},
   "outputs": [
    {
     "data": {
      "text/plain": [
       "array([-6.35480135,  1.71764123,  1.92288194,  1.70877597,  2.21615366,\n",
       "       -1.96816411, -1.51015982,  7.92837104, -1.79250449, -5.66453893])"
      ]
     },
     "execution_count": 43,
     "metadata": {},
     "output_type": "execute_result"
    }
   ],
   "source": [
    "pred[0]"
   ]
  },
  {
   "cell_type": "code",
   "execution_count": null,
   "metadata": {
    "collapsed": true
   },
   "outputs": [],
   "source": []
  }
 ],
 "metadata": {
  "kernelspec": {
   "display_name": "Python 3",
   "language": "python",
   "name": "python3"
  },
  "language_info": {
   "codemirror_mode": {
    "name": "ipython",
    "version": 3
   },
   "file_extension": ".py",
   "mimetype": "text/x-python",
   "name": "python",
   "nbconvert_exporter": "python",
   "pygments_lexer": "ipython3",
   "version": "3.6.1"
  }
 },
 "nbformat": 4,
 "nbformat_minor": 2
}
